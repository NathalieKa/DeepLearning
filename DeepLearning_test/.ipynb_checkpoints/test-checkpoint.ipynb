{
 "cells": [
  {
   "cell_type": "code",
   "execution_count": 1,
   "id": "3f97e420-ff43-4ef9-a240-7bbdcbdb65b8",
   "metadata": {},
   "outputs": [
    {
     "ename": "NameError",
     "evalue": "name 'hallo' is not defined",
     "output_type": "error",
     "traceback": [
      "\u001b[1;31m---------------------------------------------------------------------------\u001b[0m",
      "\u001b[1;31mNameError\u001b[0m                                 Traceback (most recent call last)",
      "Cell \u001b[1;32mIn[1], line 1\u001b[0m\n\u001b[1;32m----> 1\u001b[0m \u001b[43mhallo\u001b[49m\n",
      "\u001b[1;31mNameError\u001b[0m: name 'hallo' is not defined"
     ]
    }
   ],
   "source": [
    "hallo\n",
    "test"
   ]
  },
  {
   "cell_type": "code",
   "execution_count": null,
   "id": "bac897bf-4b90-41a6-a5d9-c4273a0e8536",
   "metadata": {},
   "outputs": [],
   "source": [
    "hey leute"
   ]
  },
  {
   "cell_type": "code",
   "execution_count": null,
   "id": "3c89a28c-6af2-4396-90ad-8aa19460c5f1",
   "metadata": {},
   "outputs": [],
   "source": [
    "moins"
   ]
  }
 ],
 "metadata": {
  "kernelspec": {
   "display_name": "Python 3 (ipykernel)",
   "language": "python",
   "name": "python3"
  },
  "language_info": {
   "codemirror_mode": {
    "name": "ipython",
    "version": 3
   },
   "file_extension": ".py",
   "mimetype": "text/x-python",
   "name": "python",
   "nbconvert_exporter": "python",
   "pygments_lexer": "ipython3",
   "version": "3.13.1"
  }
 },
 "nbformat": 4,
 "nbformat_minor": 5
}
